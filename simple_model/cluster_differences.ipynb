{
 "cells": [
  {
   "cell_type": "code",
   "execution_count": 121,
   "metadata": {},
   "outputs": [
    {
     "name": "stdout",
     "output_type": "stream",
     "text": [
      "The autoreload extension is already loaded. To reload it, use:\n",
      "  %reload_ext autoreload\n"
     ]
    }
   ],
   "source": [
    "import clean as c\n",
    "import clusters as clu\n",
    "import pandas as pd\n",
    "import numpy as np\n",
    "import scipy.stats as stats\n",
    "from sklearn.feature_selection import chi2\n",
    "%load_ext autoreload\n",
    "%autoreload 2\n",
    "import warnings\n",
    "warnings.filterwarnings('ignore')"
   ]
  },
  {
   "cell_type": "code",
   "execution_count": 2,
   "metadata": {},
   "outputs": [],
   "source": [
    "s2004 = pd.read_csv('data/2004.csv')\n",
    "s2005 = pd.read_csv('data/2005.csv')\n",
    "s2006 = pd.read_csv('data/2006.csv')\n",
    "s2007 = pd.read_csv('data/2007.csv')\n",
    "s2008 = pd.read_csv('data/2008.csv')\n",
    "s2009 = pd.read_csv('data/2009.csv')\n",
    "s2010 = pd.read_csv('data/2010.csv')\n",
    "s2011 = pd.read_csv('data/2011.csv')\n",
    "s2012 = pd.read_csv('data/2012.csv')\n",
    "s2013 = pd.read_csv('data/2013.csv')\n",
    "s2014 = pd.read_csv('data/2014.csv')\n",
    "s2015 = pd.read_csv('data/2015.csv')\n",
    "s2016 = pd.read_csv('data/2016.csv')\n",
    "s2017 = pd.read_csv('data/2017.csv')\n",
    "s2018 = pd.read_csv('data/2018.csv')"
   ]
  },
  {
   "cell_type": "code",
   "execution_count": 3,
   "metadata": {},
   "outputs": [],
   "source": [
    "s2004 = c.all_clean_pels(s2004)\n",
    "s2005 = c.all_clean_pels(s2005)\n",
    "s2006 = c.all_clean_pels(s2006)\n",
    "s2007 = c.all_clean_pels(s2007)\n",
    "s2008 = c.all_clean_pels(s2008)\n",
    "s2009 = c.all_clean_pels(s2009)\n",
    "s2010 = c.all_clean_pels(s2010)\n",
    "s2011 = c.all_clean_pels(s2011)\n",
    "s2012 = c.all_clean_pels(s2012)\n",
    "s2013 = c.all_clean_pels(s2013)\n",
    "s2014 = c.all_clean(s2014)\n",
    "s2015 = c.all_clean(s2015)\n",
    "s2016 = c.all_clean(s2016)\n",
    "s2017 = c.all_clean(s2017)\n",
    "s2018 = c.all_clean(s2018)"
   ]
  },
  {
   "cell_type": "code",
   "execution_count": 4,
   "metadata": {},
   "outputs": [],
   "source": [
    "avg_2008,h2008,away2008,c2008 = clu.create_clusters(s2005,s2006,s2007,n_clusters = 4)\n",
    "avg_2009,h2009,away2009,c2009 = clu.create_clusters(s2006,s2007,s2008,n_clusters = 4)\n",
    "avg_2010,h2010,away2010,c2010 = clu.create_clusters(s2007,s2008,s2009,n_clusters = 4)\n",
    "avg_2011,h2011,away2011,c2011 = clu.create_clusters(s2008,s2009,s2010,n_clusters = 4)\n",
    "avg_2012,h2012,away2012,c2012 = clu.create_clusters(s2009,s2010,s2011,n_clusters = 4)\n",
    "avg_2013,h2013,away2013,c2013 = clu.create_clusters(s2010,s2011,s2012,n_clusters = 4)\n",
    "avg_2014,h2014,away2014,c2014 = clu.create_clusters(s2011,s2012,s2013,n_clusters = 4)\n",
    "avg_2015,h2015,away2015,c2015 = clu.create_clusters(s2012,s2013,s2014,n_clusters = 4)\n",
    "avg_2016,h2016,away2016,c2016 = clu.create_clusters(s2013,s2014,s2015,n_clusters = 4)\n",
    "avg_2017,h2017,away2017,c2017 = clu.create_clusters(s2014,s2015,s2016,n_clusters = 4)\n",
    "avg_2018,h2018,away2018,c2018 = clu.create_clusters(s2015,s2016,s2017,n_clusters = 4)"
   ]
  },
  {
   "cell_type": "code",
   "execution_count": null,
   "metadata": {},
   "outputs": [],
   "source": []
  },
  {
   "cell_type": "code",
   "execution_count": 5,
   "metadata": {},
   "outputs": [
    {
     "data": {
      "text/plain": [
       "{0: array([ 0,  4,  8, 12, 15, 29]),\n",
       " 1: array([ 2, 11, 16, 19, 20, 22, 23, 26, 27]),\n",
       " 2: array([ 1,  3,  5,  7,  9, 10, 14, 17]),\n",
       " 3: array([ 6, 13, 18, 21, 24, 25, 28])}"
      ]
     },
     "execution_count": 5,
     "metadata": {},
     "output_type": "execute_result"
    }
   ],
   "source": [
    "{i: np.where(c2008.labels_ == i)[0] for i in range(c2008.n_clusters)}"
   ]
  },
  {
   "cell_type": "code",
   "execution_count": 6,
   "metadata": {},
   "outputs": [],
   "source": [
    "avg_2008['clusters']=c2008.labels_\n",
    "avg_2009['clusters']=c2009.labels_\n",
    "avg_2010['clusters']=c2010.labels_\n",
    "avg_2011['clusters']=c2011.labels_\n",
    "avg_2012['clusters']=c2012.labels_\n",
    "avg_2013['clusters']=c2013.labels_\n",
    "avg_2014['clusters']=c2014.labels_\n",
    "avg_2015['clusters']=c2015.labels_\n",
    "avg_2016['clusters']=c2016.labels_\n",
    "avg_2017['clusters']=c2017.labels_\n",
    "avg_2018['clusters']=c2018.labels_\n"
   ]
  },
  {
   "cell_type": "code",
   "execution_count": 7,
   "metadata": {},
   "outputs": [],
   "source": [
    "avg_2008=pd.concat((avg_2008,pd.get_dummies(avg_2008['clusters'],prefix='cluster')),axis=1)\n",
    "avg_2009=pd.concat((avg_2009,pd.get_dummies(avg_2009['clusters'],prefix='cluster')),axis=1)\n",
    "avg_2010=pd.concat((avg_2010,pd.get_dummies(avg_2010['clusters'],prefix='cluster')),axis=1)\n",
    "avg_2011=pd.concat((avg_2011,pd.get_dummies(avg_2011['clusters'],prefix='cluster')),axis=1)\n",
    "avg_2012=pd.concat((avg_2012,pd.get_dummies(avg_2012['clusters'],prefix='cluster')),axis=1)\n",
    "avg_2013=pd.concat((avg_2013,pd.get_dummies(avg_2013['clusters'],prefix='cluster')),axis=1)\n",
    "avg_2014=pd.concat((avg_2014,pd.get_dummies(avg_2014['clusters'],prefix='cluster')),axis=1)\n",
    "avg_2015=pd.concat((avg_2015,pd.get_dummies(avg_2015['clusters'],prefix='cluster')),axis=1)\n",
    "avg_2016=pd.concat((avg_2016,pd.get_dummies(avg_2016['clusters'],prefix='cluster')),axis=1)\n",
    "avg_2017=pd.concat((avg_2017,pd.get_dummies(avg_2016['clusters'],prefix='cluster')),axis=1)\n",
    "avg_2018=pd.concat((avg_2018,pd.get_dummies(avg_2018['clusters'],prefix='cluster')),axis=1)"
   ]
  },
  {
   "cell_type": "code",
   "execution_count": 8,
   "metadata": {},
   "outputs": [],
   "source": [
    "avg_2008.drop('clusters',axis=1,inplace=True)\n",
    "avg_2009.drop('clusters',axis=1,inplace=True)\n",
    "avg_2010.drop('clusters',axis=1,inplace=True)\n",
    "avg_2011.drop('clusters',axis=1,inplace=True)\n",
    "avg_2012.drop('clusters',axis=1,inplace=True)\n",
    "avg_2013.drop('clusters',axis=1,inplace=True)\n",
    "avg_2014.drop('clusters',axis=1,inplace=True)\n",
    "avg_2015.drop('clusters',axis=1,inplace=True)\n",
    "avg_2016.drop('clusters',axis=1,inplace=True)\n",
    "avg_2017.drop('clusters',axis=1,inplace=True)\n",
    "avg_2018.drop('clusters',axis=1,inplace=True)"
   ]
  },
  {
   "cell_type": "code",
   "execution_count": 9,
   "metadata": {},
   "outputs": [],
   "source": [
    "cluster2008_0=avg_2008[avg_2008['cluster_0']==1]\n",
    "cluster2008_1=avg_2008[avg_2008['cluster_1']==1]\n",
    "cluster2008_2=avg_2008[avg_2008['cluster_2']==1]\n",
    "cluster2008_3=avg_2008[avg_2008['cluster_3']==1]"
   ]
  },
  {
   "cell_type": "code",
   "execution_count": 10,
   "metadata": {},
   "outputs": [],
   "source": [
    "cluster2009_0=avg_2009[avg_2009['cluster_0']==1]\n",
    "cluster2009_1=avg_2009[avg_2009['cluster_1']==1]\n",
    "cluster2009_2=avg_2009[avg_2009['cluster_2']==1]\n",
    "cluster2009_3=avg_2009[avg_2009['cluster_3']==1]"
   ]
  },
  {
   "cell_type": "code",
   "execution_count": 11,
   "metadata": {},
   "outputs": [],
   "source": [
    "cluster2010_0=avg_2010[avg_2010['cluster_0']==1]\n",
    "cluster2010_1=avg_2010[avg_2010['cluster_1']==1]\n",
    "cluster2010_2=avg_2010[avg_2010['cluster_2']==1]\n",
    "cluster2010_3=avg_2010[avg_2010['cluster_3']==1]"
   ]
  },
  {
   "cell_type": "code",
   "execution_count": 12,
   "metadata": {},
   "outputs": [],
   "source": [
    "cluster2011_0=avg_2011[avg_2011['cluster_0']==1]\n",
    "cluster2011_1=avg_2011[avg_2011['cluster_1']==1]\n",
    "cluster2011_2=avg_2011[avg_2011['cluster_2']==1]\n",
    "cluster2011_3=avg_2011[avg_2011['cluster_3']==1]"
   ]
  },
  {
   "cell_type": "code",
   "execution_count": 13,
   "metadata": {},
   "outputs": [],
   "source": [
    "cluster2012_0=avg_2012[avg_2012['cluster_0']==1]\n",
    "cluster2012_1=avg_2012[avg_2012['cluster_1']==1]\n",
    "cluster2012_2=avg_2012[avg_2012['cluster_2']==1]\n",
    "cluster2012_3=avg_2012[avg_2012['cluster_3']==1]"
   ]
  },
  {
   "cell_type": "code",
   "execution_count": 14,
   "metadata": {},
   "outputs": [],
   "source": [
    "cluster2013_0=avg_2013[avg_2013['cluster_0']==1]\n",
    "cluster2013_1=avg_2013[avg_2013['cluster_1']==1]\n",
    "cluster2013_2=avg_2013[avg_2013['cluster_2']==1]\n",
    "cluster2013_3=avg_2013[avg_2013['cluster_3']==1]"
   ]
  },
  {
   "cell_type": "code",
   "execution_count": 15,
   "metadata": {},
   "outputs": [],
   "source": [
    "cluster2014_0=avg_2014[avg_2014['cluster_0']==1]\n",
    "cluster2014_1=avg_2014[avg_2014['cluster_1']==1]\n",
    "cluster2014_2=avg_2014[avg_2014['cluster_2']==1]\n",
    "cluster2014_3=avg_2014[avg_2014['cluster_3']==1]"
   ]
  },
  {
   "cell_type": "code",
   "execution_count": 16,
   "metadata": {},
   "outputs": [],
   "source": [
    "cluster2015_0=avg_2015[avg_2015['cluster_0']==1]\n",
    "cluster2015_1=avg_2015[avg_2015['cluster_1']==1]\n",
    "cluster2015_2=avg_2015[avg_2015['cluster_2']==1]\n",
    "cluster2015_3=avg_2015[avg_2015['cluster_3']==1]"
   ]
  },
  {
   "cell_type": "code",
   "execution_count": 17,
   "metadata": {},
   "outputs": [],
   "source": [
    "cluster2016_0=avg_2016[avg_2016['cluster_0']==1]\n",
    "cluster2016_1=avg_2016[avg_2016['cluster_1']==1]\n",
    "cluster2016_2=avg_2016[avg_2016['cluster_2']==1]\n",
    "cluster2016_3=avg_2016[avg_2016['cluster_3']==1]"
   ]
  },
  {
   "cell_type": "code",
   "execution_count": 18,
   "metadata": {},
   "outputs": [],
   "source": [
    "cluster2017_0=avg_2017[avg_2017['cluster_0']==1]\n",
    "cluster2017_1=avg_2017[avg_2017['cluster_1']==1]\n",
    "cluster2017_2=avg_2017[avg_2017['cluster_2']==1]\n",
    "cluster2017_3=avg_2017[avg_2017['cluster_3']==1]"
   ]
  },
  {
   "cell_type": "code",
   "execution_count": 19,
   "metadata": {},
   "outputs": [],
   "source": [
    "cluster2018_0=avg_2018[avg_2018['cluster_0']==1]\n",
    "cluster2018_1=avg_2018[avg_2018['cluster_1']==1]\n",
    "cluster2018_2=avg_2018[avg_2018['cluster_2']==1]\n",
    "cluster2018_3=avg_2018[avg_2018['cluster_3']==1]"
   ]
  },
  {
   "cell_type": "code",
   "execution_count": 51,
   "metadata": {},
   "outputs": [],
   "source": [
    "clu_0=list(cluster2008_0.mean().values)\n",
    "clu_1=list(cluster2008_1.mean().values)\n",
    "clu_2=list(cluster2008_2.mean().values)\n",
    "clu_3=list(cluster2008_3.mean().values)\n",
    "obs01 = np.array([clu_0[:16],clu_1[:16]])\n",
    "obs02 = np.array([clu_0[:16],clu_2[:16]])\n",
    "obs03 = np.array([clu_0[:16],clu_3[:16]])\n",
    "obs12 = np.array([clu_1[:16],clu_2[:16]])\n",
    "obs13 = np.array([clu_1[:16],clu_3[:16]])\n",
    "obs23 = np.array([clu_2[:16],clu_3[:16]])"
   ]
  },
  {
   "cell_type": "code",
   "execution_count": 92,
   "metadata": {},
   "outputs": [
    {
     "name": "stdout",
     "output_type": "stream",
     "text": [
      "p-value: 0.9999999958610377\n",
      "test statistic: 0.5631212049579393\n",
      "dof 15\n",
      "\n",
      "\n",
      "p-value: 0.999999790232686\n",
      "test statistic: 0.9735268012818247\n",
      "dof 15\n",
      "\n",
      "\n",
      "p-value: 0.9999960139603008\n",
      "test statistic: 1.4853405734122183\n",
      "dof 15\n",
      "\n",
      "\n",
      "p-value: 0.9999988530115733\n",
      "test statistic: 1.240188724526649\n",
      "dof 15\n",
      "\n",
      "\n",
      "p-value: 0.9999994647354149\n",
      "test statistic: 1.112002796175789\n",
      "dof 15\n",
      "\n",
      "\n",
      "p-value: 0.997399527727159\n",
      "test statistic: 4.097708975686882\n",
      "dof 15\n",
      "\n",
      "\n"
     ]
    }
   ],
   "source": [
    "for obs in [obs01,obs02,obs03,obs12,obs13,obs23]:\n",
    "    chi2,p,dof,exp=stats.chi2_contingency(obs)\n",
    "    print('p-value:',p)\n",
    "    print('test statistic:',chi2)\n",
    "    print('dof',dof)\n",
    "    print('\\n')"
   ]
  },
  {
   "cell_type": "code",
   "execution_count": 125,
   "metadata": {},
   "outputs": [
    {
     "ename": "ValueError",
     "evalue": "Unknown label type: (array([[21.61517615],\n       [ 4.89611563],\n       [30.11201445],\n       [11.44083107],\n       [21.97199639],\n       [41.55284553],\n       [ 7.03432701],\n       [13.52529359],\n       [18.37714544],\n       [24.41056911],\n       [ 5.55420054],\n       [15.66124661],\n       [35.27461608],\n       [79.27416441],\n       [94.48057814],\n       [92.79945799],\n       [ 0.        ],\n       [ 0.        ],\n       [ 1.        ],\n       [ 0.        ],\n       [ 0.        ]]),)",
     "output_type": "error",
     "traceback": [
      "\u001b[0;31m---------------------------------------------------------------------------\u001b[0m",
      "\u001b[0;31mValueError\u001b[0m                                Traceback (most recent call last)",
      "\u001b[0;32m<ipython-input-125-8e72d9182e65>\u001b[0m in \u001b[0;36m<module>\u001b[0;34m()\u001b[0m\n\u001b[1;32m      1\u001b[0m \u001b[0mclu_0\u001b[0m\u001b[0;34m=\u001b[0m\u001b[0mnp\u001b[0m\u001b[0;34m.\u001b[0m\u001b[0marray\u001b[0m\u001b[0;34m(\u001b[0m\u001b[0mclu_0\u001b[0m\u001b[0;34m)\u001b[0m\u001b[0;34m\u001b[0m\u001b[0m\n\u001b[1;32m      2\u001b[0m \u001b[0mclu_1\u001b[0m\u001b[0;34m=\u001b[0m\u001b[0mnp\u001b[0m\u001b[0;34m.\u001b[0m\u001b[0marray\u001b[0m\u001b[0;34m(\u001b[0m\u001b[0mclu_1\u001b[0m\u001b[0;34m)\u001b[0m\u001b[0;34m\u001b[0m\u001b[0m\n\u001b[0;32m----> 3\u001b[0;31m \u001b[0mchi\u001b[0m\u001b[0;34m,\u001b[0m \u001b[0mp\u001b[0m \u001b[0;34m=\u001b[0m \u001b[0mchi2\u001b[0m\u001b[0;34m(\u001b[0m\u001b[0mclu_0\u001b[0m\u001b[0;34m.\u001b[0m\u001b[0mreshape\u001b[0m\u001b[0;34m(\u001b[0m\u001b[0;34m-\u001b[0m\u001b[0;36m1\u001b[0m\u001b[0;34m,\u001b[0m\u001b[0;36m1\u001b[0m\u001b[0;34m)\u001b[0m\u001b[0;34m,\u001b[0m\u001b[0mclu_1\u001b[0m\u001b[0;34m.\u001b[0m\u001b[0mreshape\u001b[0m\u001b[0;34m(\u001b[0m\u001b[0;34m-\u001b[0m\u001b[0;36m1\u001b[0m\u001b[0;34m,\u001b[0m\u001b[0;36m1\u001b[0m\u001b[0;34m)\u001b[0m\u001b[0;34m)\u001b[0m\u001b[0;34m\u001b[0m\u001b[0m\n\u001b[0m",
      "\u001b[0;32m~/anaconda3/lib/python3.6/site-packages/sklearn/feature_selection/univariate_selection.py\u001b[0m in \u001b[0;36mchi2\u001b[0;34m(X, y)\u001b[0m\n\u001b[1;32m    215\u001b[0m         \u001b[0;32mraise\u001b[0m \u001b[0mValueError\u001b[0m\u001b[0;34m(\u001b[0m\u001b[0;34m\"Input X must be non-negative.\"\u001b[0m\u001b[0;34m)\u001b[0m\u001b[0;34m\u001b[0m\u001b[0m\n\u001b[1;32m    216\u001b[0m \u001b[0;34m\u001b[0m\u001b[0m\n\u001b[0;32m--> 217\u001b[0;31m     \u001b[0mY\u001b[0m \u001b[0;34m=\u001b[0m \u001b[0mLabelBinarizer\u001b[0m\u001b[0;34m(\u001b[0m\u001b[0;34m)\u001b[0m\u001b[0;34m.\u001b[0m\u001b[0mfit_transform\u001b[0m\u001b[0;34m(\u001b[0m\u001b[0my\u001b[0m\u001b[0;34m)\u001b[0m\u001b[0;34m\u001b[0m\u001b[0m\n\u001b[0m\u001b[1;32m    218\u001b[0m     \u001b[0;32mif\u001b[0m \u001b[0mY\u001b[0m\u001b[0;34m.\u001b[0m\u001b[0mshape\u001b[0m\u001b[0;34m[\u001b[0m\u001b[0;36m1\u001b[0m\u001b[0;34m]\u001b[0m \u001b[0;34m==\u001b[0m \u001b[0;36m1\u001b[0m\u001b[0;34m:\u001b[0m\u001b[0;34m\u001b[0m\u001b[0m\n\u001b[1;32m    219\u001b[0m         \u001b[0mY\u001b[0m \u001b[0;34m=\u001b[0m \u001b[0mnp\u001b[0m\u001b[0;34m.\u001b[0m\u001b[0mappend\u001b[0m\u001b[0;34m(\u001b[0m\u001b[0;36m1\u001b[0m \u001b[0;34m-\u001b[0m \u001b[0mY\u001b[0m\u001b[0;34m,\u001b[0m \u001b[0mY\u001b[0m\u001b[0;34m,\u001b[0m \u001b[0maxis\u001b[0m\u001b[0;34m=\u001b[0m\u001b[0;36m1\u001b[0m\u001b[0;34m)\u001b[0m\u001b[0;34m\u001b[0m\u001b[0m\n",
      "\u001b[0;32m~/anaconda3/lib/python3.6/site-packages/sklearn/preprocessing/label.py\u001b[0m in \u001b[0;36mfit_transform\u001b[0;34m(self, y)\u001b[0m\n\u001b[1;32m    305\u001b[0m             \u001b[0mShape\u001b[0m \u001b[0mwill\u001b[0m \u001b[0mbe\u001b[0m \u001b[0;34m[\u001b[0m\u001b[0mn_samples\u001b[0m\u001b[0;34m,\u001b[0m \u001b[0;36m1\u001b[0m\u001b[0;34m]\u001b[0m \u001b[0;32mfor\u001b[0m \u001b[0mbinary\u001b[0m \u001b[0mproblems\u001b[0m\u001b[0;34m.\u001b[0m\u001b[0;34m\u001b[0m\u001b[0m\n\u001b[1;32m    306\u001b[0m         \"\"\"\n\u001b[0;32m--> 307\u001b[0;31m         \u001b[0;32mreturn\u001b[0m \u001b[0mself\u001b[0m\u001b[0;34m.\u001b[0m\u001b[0mfit\u001b[0m\u001b[0;34m(\u001b[0m\u001b[0my\u001b[0m\u001b[0;34m)\u001b[0m\u001b[0;34m.\u001b[0m\u001b[0mtransform\u001b[0m\u001b[0;34m(\u001b[0m\u001b[0my\u001b[0m\u001b[0;34m)\u001b[0m\u001b[0;34m\u001b[0m\u001b[0m\n\u001b[0m\u001b[1;32m    308\u001b[0m \u001b[0;34m\u001b[0m\u001b[0m\n\u001b[1;32m    309\u001b[0m     \u001b[0;32mdef\u001b[0m \u001b[0mtransform\u001b[0m\u001b[0;34m(\u001b[0m\u001b[0mself\u001b[0m\u001b[0;34m,\u001b[0m \u001b[0my\u001b[0m\u001b[0;34m)\u001b[0m\u001b[0;34m:\u001b[0m\u001b[0;34m\u001b[0m\u001b[0m\n",
      "\u001b[0;32m~/anaconda3/lib/python3.6/site-packages/sklearn/preprocessing/label.py\u001b[0m in \u001b[0;36mfit\u001b[0;34m(self, y)\u001b[0m\n\u001b[1;32m    282\u001b[0m \u001b[0;34m\u001b[0m\u001b[0m\n\u001b[1;32m    283\u001b[0m         \u001b[0mself\u001b[0m\u001b[0;34m.\u001b[0m\u001b[0msparse_input_\u001b[0m \u001b[0;34m=\u001b[0m \u001b[0msp\u001b[0m\u001b[0;34m.\u001b[0m\u001b[0missparse\u001b[0m\u001b[0;34m(\u001b[0m\u001b[0my\u001b[0m\u001b[0;34m)\u001b[0m\u001b[0;34m\u001b[0m\u001b[0m\n\u001b[0;32m--> 284\u001b[0;31m         \u001b[0mself\u001b[0m\u001b[0;34m.\u001b[0m\u001b[0mclasses_\u001b[0m \u001b[0;34m=\u001b[0m \u001b[0munique_labels\u001b[0m\u001b[0;34m(\u001b[0m\u001b[0my\u001b[0m\u001b[0;34m)\u001b[0m\u001b[0;34m\u001b[0m\u001b[0m\n\u001b[0m\u001b[1;32m    285\u001b[0m         \u001b[0;32mreturn\u001b[0m \u001b[0mself\u001b[0m\u001b[0;34m\u001b[0m\u001b[0m\n\u001b[1;32m    286\u001b[0m \u001b[0;34m\u001b[0m\u001b[0m\n",
      "\u001b[0;32m~/anaconda3/lib/python3.6/site-packages/sklearn/utils/multiclass.py\u001b[0m in \u001b[0;36munique_labels\u001b[0;34m(*ys)\u001b[0m\n\u001b[1;32m     95\u001b[0m     \u001b[0m_unique_labels\u001b[0m \u001b[0;34m=\u001b[0m \u001b[0m_FN_UNIQUE_LABELS\u001b[0m\u001b[0;34m.\u001b[0m\u001b[0mget\u001b[0m\u001b[0;34m(\u001b[0m\u001b[0mlabel_type\u001b[0m\u001b[0;34m,\u001b[0m \u001b[0;32mNone\u001b[0m\u001b[0;34m)\u001b[0m\u001b[0;34m\u001b[0m\u001b[0m\n\u001b[1;32m     96\u001b[0m     \u001b[0;32mif\u001b[0m \u001b[0;32mnot\u001b[0m \u001b[0m_unique_labels\u001b[0m\u001b[0;34m:\u001b[0m\u001b[0;34m\u001b[0m\u001b[0m\n\u001b[0;32m---> 97\u001b[0;31m         \u001b[0;32mraise\u001b[0m \u001b[0mValueError\u001b[0m\u001b[0;34m(\u001b[0m\u001b[0;34m\"Unknown label type: %s\"\u001b[0m \u001b[0;34m%\u001b[0m \u001b[0mrepr\u001b[0m\u001b[0;34m(\u001b[0m\u001b[0mys\u001b[0m\u001b[0;34m)\u001b[0m\u001b[0;34m)\u001b[0m\u001b[0;34m\u001b[0m\u001b[0m\n\u001b[0m\u001b[1;32m     98\u001b[0m \u001b[0;34m\u001b[0m\u001b[0m\n\u001b[1;32m     99\u001b[0m     \u001b[0mys_labels\u001b[0m \u001b[0;34m=\u001b[0m \u001b[0mset\u001b[0m\u001b[0;34m(\u001b[0m\u001b[0mchain\u001b[0m\u001b[0;34m.\u001b[0m\u001b[0mfrom_iterable\u001b[0m\u001b[0;34m(\u001b[0m\u001b[0m_unique_labels\u001b[0m\u001b[0;34m(\u001b[0m\u001b[0my\u001b[0m\u001b[0;34m)\u001b[0m \u001b[0;32mfor\u001b[0m \u001b[0my\u001b[0m \u001b[0;32min\u001b[0m \u001b[0mys\u001b[0m\u001b[0;34m)\u001b[0m\u001b[0;34m)\u001b[0m\u001b[0;34m\u001b[0m\u001b[0m\n",
      "\u001b[0;31mValueError\u001b[0m: Unknown label type: (array([[21.61517615],\n       [ 4.89611563],\n       [30.11201445],\n       [11.44083107],\n       [21.97199639],\n       [41.55284553],\n       [ 7.03432701],\n       [13.52529359],\n       [18.37714544],\n       [24.41056911],\n       [ 5.55420054],\n       [15.66124661],\n       [35.27461608],\n       [79.27416441],\n       [94.48057814],\n       [92.79945799],\n       [ 0.        ],\n       [ 0.        ],\n       [ 1.        ],\n       [ 0.        ],\n       [ 0.        ]]),)"
     ]
    }
   ],
   "source": [
    "clu_0=np.array(clu_0)\n",
    "clu_1=np.array(clu_1)\n",
    "chi, p = chi2(clu_0.reshape(-1,1),clu_1.reshape(-1,1))"
   ]
  },
  {
   "cell_type": "code",
   "execution_count": null,
   "metadata": {},
   "outputs": [],
   "source": []
  }
 ],
 "metadata": {
  "kernelspec": {
   "display_name": "Python 3",
   "language": "python",
   "name": "python3"
  },
  "language_info": {
   "codemirror_mode": {
    "name": "ipython",
    "version": 3
   },
   "file_extension": ".py",
   "mimetype": "text/x-python",
   "name": "python",
   "nbconvert_exporter": "python",
   "pygments_lexer": "ipython3",
   "version": "3.6.4"
  }
 },
 "nbformat": 4,
 "nbformat_minor": 2
}
