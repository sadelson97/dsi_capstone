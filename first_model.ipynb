{
 "cells": [
  {
   "cell_type": "code",
   "execution_count": 1,
   "metadata": {},
   "outputs": [],
   "source": [
    "import clean as c\n",
    "import clusters as clu\n",
    "import pandas as pd\n",
    "import numpy as np\n",
    "import matplotlib.pyplot as plt\n",
    "%matplotlib inline\n",
    "%load_ext autoreload\n",
    "%autoreload 2\n",
    "import warnings\n",
    "warnings.filterwarnings('ignore')"
   ]
  },
  {
   "cell_type": "code",
   "execution_count": 2,
   "metadata": {},
   "outputs": [],
   "source": [
    "s2004 = pd.read_csv('data/2004.csv')\n",
    "s2005 = pd.read_csv('data/2005.csv')\n",
    "s2006 = pd.read_csv('data/2006.csv')\n",
    "s2007 = pd.read_csv('data/2007.csv')\n",
    "s2008 = pd.read_csv('data/2008.csv')\n",
    "s2009 = pd.read_csv('data/2009.csv')\n",
    "s2010 = pd.read_csv('data/2010.csv')\n",
    "s2011 = pd.read_csv('data/2011.csv')\n",
    "s2012 = pd.read_csv('data/2012.csv')\n",
    "s2013 = pd.read_csv('data/2013.csv')\n",
    "s2014 = pd.read_csv('data/2014.csv')\n",
    "s2015 = pd.read_csv('data/2015.csv')\n",
    "s2016 = pd.read_csv('data/2016.csv')\n",
    "s2017 = pd.read_csv('data/2017.csv')\n",
    "s2018 = pd.read_csv('data/2018.csv')"
   ]
  },
  {
   "cell_type": "code",
   "execution_count": 3,
   "metadata": {},
   "outputs": [],
   "source": [
    "s2004 = c.all_clean_pels(s2004)\n",
    "s2005 = c.all_clean_pels(s2005)\n",
    "s2006 = c.all_clean_pels(s2006)\n",
    "s2007 = c.all_clean_pels(s2007)\n",
    "s2008 = c.all_clean_pels(s2008)\n",
    "s2009 = c.all_clean_pels(s2009)\n",
    "s2010 = c.all_clean_pels(s2010)\n",
    "s2011 = c.all_clean_pels(s2011)\n",
    "s2012 = c.all_clean_pels(s2012)\n",
    "s2013 = c.all_clean_pels(s2013)\n",
    "s2014 = c.all_clean(s2014)\n",
    "s2015 = c.all_clean(s2015)\n",
    "s2016 = c.all_clean(s2016)\n",
    "s2017 = c.all_clean(s2017)\n",
    "s2018 = c.all_clean(s2018)"
   ]
  },
  {
   "cell_type": "code",
   "execution_count": null,
   "metadata": {},
   "outputs": [],
   "source": []
  },
  {
   "cell_type": "code",
   "execution_count": 6,
   "metadata": {},
   "outputs": [],
   "source": [
    "home_2004,away_2004 = c.get_avgs_home_vs_away(s2004)\n",
    "home_2005,away_2005 = c.get_avgs_home_vs_away(s2005)\n",
    "home_2006,away_2006 = c.get_avgs_home_vs_away(s2006)\n",
    "home_2007,away_2007 = c.get_avgs_home_vs_away(s2007)\n",
    "home_2008,away_2008 = c.get_avgs_home_vs_away(s2008)\n",
    "home_2009,away_2009 = c.get_avgs_home_vs_away(s2009)\n",
    "home_2010,away_2010= c.get_avgs_home_vs_away(s2010)\n",
    "home_2011,away_2011 = c.get_avgs_home_vs_away(s2011)\n",
    "home_2012,away_2012 = c.get_avgs_home_vs_away(s2012)\n",
    "home_2013,away_2013 = c.get_avgs_home_vs_away(s2013)\n",
    "home_2014,away_2014 = c.get_avgs_home_vs_away(s2014)\n",
    "home_2015,away_2015 = c.get_avgs_home_vs_away(s2015)\n",
    "home_2016,away_2016 = c.get_avgs_home_vs_away(s2016)\n",
    "home_2017,away_2017= c.get_avgs_home_vs_away(s2017)\n",
    "home_2018,away_2018 = c.get_avgs_home_vs_away(s2018)\n"
   ]
  },
  {
   "cell_type": "code",
   "execution_count": 47,
   "metadata": {},
   "outputs": [],
   "source": [
    "h2008,away2008,c2008 = clu.create_clusters(s2005,s2006,s2007,n_clusters = 4)"
   ]
  },
  {
   "cell_type": "code",
   "execution_count": 48,
   "metadata": {},
   "outputs": [],
   "source": [
    "h2009,away2009,c2009 = clu.create_clusters(s2006,s2007,s2008,n_clusters = 4)"
   ]
  },
  {
   "cell_type": "code",
   "execution_count": 49,
   "metadata": {},
   "outputs": [],
   "source": [
    "h2010,away2010,c2010 = clu.create_clusters(s2007,s2008,s2009,n_clusters = 4)"
   ]
  },
  {
   "cell_type": "code",
   "execution_count": 50,
   "metadata": {},
   "outputs": [],
   "source": [
    "h2011,away2011,c2011 = clu.create_clusters(s2008,s2009,s2010,n_clusters = 4)"
   ]
  },
  {
   "cell_type": "code",
   "execution_count": 51,
   "metadata": {},
   "outputs": [],
   "source": [
    "h2012,away2012,c2012 = clu.create_clusters(s2009,s2010,s2011,n_clusters = 4)"
   ]
  },
  {
   "cell_type": "code",
   "execution_count": 52,
   "metadata": {},
   "outputs": [],
   "source": [
    "h2013,away2013,c2013 = clu.create_clusters(s2010,s2011,s2012,n_clusters = 4)"
   ]
  },
  {
   "cell_type": "code",
   "execution_count": 53,
   "metadata": {},
   "outputs": [],
   "source": [
    "h2014,away2014,c2014 = clu.create_clusters(s2011,s2012,s2013,n_clusters = 4)"
   ]
  },
  {
   "cell_type": "code",
   "execution_count": 54,
   "metadata": {},
   "outputs": [],
   "source": [
    "h2015,away2015,c2015 = clu.create_clusters(s2012,s2013,s2014,n_clusters = 4)"
   ]
  },
  {
   "cell_type": "code",
   "execution_count": 55,
   "metadata": {},
   "outputs": [],
   "source": [
    "h2016,away2016,c2016 = clu.create_clusters(s2013,s2014,s2015,n_clusters = 4)"
   ]
  },
  {
   "cell_type": "code",
   "execution_count": 56,
   "metadata": {},
   "outputs": [],
   "source": [
    "h2017,away2017,c2017 = clu.create_clusters(s2014,s2015,s2016,n_clusters = 4)"
   ]
  },
  {
   "cell_type": "code",
   "execution_count": 57,
   "metadata": {},
   "outputs": [],
   "source": [
    "h2018,away2018,c2018 = clu.create_clusters(s2015,s2016,s2017,n_clusters = 4)"
   ]
  },
  {
   "cell_type": "code",
   "execution_count": null,
   "metadata": {},
   "outputs": [],
   "source": []
  },
  {
   "cell_type": "code",
   "execution_count": 29,
   "metadata": {},
   "outputs": [],
   "source": [
    "sc2018['cluster']=c2018.labels_\n",
    "sc2018=pd.concat((sc2018,pd.get_dummies(sc2018['cluster'],prefix='cluster')),axis=1)\n",
    "sc2018.drop('cluster',axis=1,inplace=True)"
   ]
  },
  {
   "cell_type": "code",
   "execution_count": 30,
   "metadata": {},
   "outputs": [],
   "source": [
    "sc2017['cluster']=c2017.labels_\n",
    "sc2017=pd.concat((sc2017,pd.get_dummies(sc2017['cluster'],prefix='cluster')),axis=1)\n",
    "sc2017.drop('cluster',axis=1,inplace=True)"
   ]
  },
  {
   "cell_type": "code",
   "execution_count": 31,
   "metadata": {},
   "outputs": [],
   "source": [
    "sc2016['cluster']=c2016.labels_\n",
    "sc2016=pd.concat((sc2016,pd.get_dummies(sc2016['cluster'],prefix='cluster')),axis=1)\n",
    "sc2016.drop('cluster',axis=1,inplace=True)"
   ]
  },
  {
   "cell_type": "code",
   "execution_count": 32,
   "metadata": {},
   "outputs": [],
   "source": [
    "sc2015['cluster']=c2015.labels_\n",
    "sc2015=pd.concat((sc2015,pd.get_dummies(sc2015['cluster'],prefix='cluster')),axis=1)\n",
    "sc2015.drop('cluster',axis=1,inplace=True)"
   ]
  },
  {
   "cell_type": "code",
   "execution_count": 33,
   "metadata": {},
   "outputs": [],
   "source": [
    "sc2014['cluster']=c2014.labels_\n",
    "sc2014=pd.concat((sc2014,pd.get_dummies(sc2014['cluster'],prefix='cluster')),axis=1)\n",
    "sc2014.drop('cluster',axis=1,inplace=True)"
   ]
  },
  {
   "cell_type": "code",
   "execution_count": 34,
   "metadata": {},
   "outputs": [],
   "source": [
    "sc2013['cluster']=c2013.labels_\n",
    "sc2013=pd.concat((sc2013,pd.get_dummies(sc2013['cluster'],prefix='cluster')),axis=1)\n",
    "sc2013.drop('cluster',axis=1,inplace=True)"
   ]
  },
  {
   "cell_type": "code",
   "execution_count": 35,
   "metadata": {},
   "outputs": [],
   "source": [
    "sc2012['cluster']=c2012.labels_\n",
    "sc2012=pd.concat((sc2012,pd.get_dummies(sc2012['cluster'],prefix='cluster')),axis=1)\n",
    "sc2012.drop('cluster',axis=1,inplace=True)"
   ]
  },
  {
   "cell_type": "code",
   "execution_count": 36,
   "metadata": {},
   "outputs": [],
   "source": [
    "sc2011['cluster']=c2011.labels_\n",
    "sc2011=pd.concat((sc2011,pd.get_dummies(sc2011['cluster'],prefix='cluster')),axis=1)\n",
    "sc2011.drop('cluster',axis=1,inplace=True)"
   ]
  },
  {
   "cell_type": "code",
   "execution_count": 37,
   "metadata": {},
   "outputs": [],
   "source": [
    "sc2010['cluster']=c2010.labels_\n",
    "sc2010=pd.concat((sc2010,pd.get_dummies(sc2010['cluster'],prefix='cluster')),axis=1)\n",
    "sc2010.drop('cluster',axis=1,inplace=True)"
   ]
  },
  {
   "cell_type": "code",
   "execution_count": 38,
   "metadata": {},
   "outputs": [],
   "source": [
    "sc2009['cluster']=c2009.labels_\n",
    "sc2009=pd.concat((sc2009,pd.get_dummies(sc2009['cluster'],prefix='cluster')),axis=1)\n",
    "sc2009.drop('cluster',axis=1,inplace=True)"
   ]
  },
  {
   "cell_type": "code",
   "execution_count": 39,
   "metadata": {},
   "outputs": [],
   "source": [
    "sc2008['cluster']=c2008.labels_\n",
    "sc2008=pd.concat((sc2008,pd.get_dummies(sc2008['cluster'],prefix='cluster')),axis=1)\n",
    "sc2008.drop('cluster',axis=1,inplace=True)"
   ]
  },
  {
   "cell_type": "code",
   "execution_count": 46,
   "metadata": {
    "scrolled": true
   },
   "outputs": [
    {
     "data": {
      "text/html": [
       "<div>\n",
       "<style scoped>\n",
       "    .dataframe tbody tr th:only-of-type {\n",
       "        vertical-align: middle;\n",
       "    }\n",
       "\n",
       "    .dataframe tbody tr th {\n",
       "        vertical-align: top;\n",
       "    }\n",
       "\n",
       "    .dataframe thead th {\n",
       "        text-align: right;\n",
       "    }\n",
       "</style>\n",
       "<table border=\"1\" class=\"dataframe\">\n",
       "  <thead>\n",
       "    <tr style=\"text-align: right;\">\n",
       "      <th></th>\n",
       "      <th>AST</th>\n",
       "      <th>BLK</th>\n",
       "      <th>DREB</th>\n",
       "      <th>OREB</th>\n",
       "      <th>PF</th>\n",
       "      <th>REB</th>\n",
       "      <th>STL</th>\n",
       "      <th>TO</th>\n",
       "      <th>FT_made</th>\n",
       "      <th>FT_attempts</th>\n",
       "      <th>...</th>\n",
       "      <th>3PT_attempts</th>\n",
       "      <th>FG_made</th>\n",
       "      <th>FG_attempts</th>\n",
       "      <th>AVG_score</th>\n",
       "      <th>Possessions</th>\n",
       "      <th>+/-_diff</th>\n",
       "      <th>cluster_0</th>\n",
       "      <th>cluster_1</th>\n",
       "      <th>cluster_2</th>\n",
       "      <th>cluster_3</th>\n",
       "    </tr>\n",
       "    <tr>\n",
       "      <th>team</th>\n",
       "      <th></th>\n",
       "      <th></th>\n",
       "      <th></th>\n",
       "      <th></th>\n",
       "      <th></th>\n",
       "      <th></th>\n",
       "      <th></th>\n",
       "      <th></th>\n",
       "      <th></th>\n",
       "      <th></th>\n",
       "      <th></th>\n",
       "      <th></th>\n",
       "      <th></th>\n",
       "      <th></th>\n",
       "      <th></th>\n",
       "      <th></th>\n",
       "      <th></th>\n",
       "      <th></th>\n",
       "      <th></th>\n",
       "      <th></th>\n",
       "      <th></th>\n",
       "    </tr>\n",
       "  </thead>\n",
       "  <tbody>\n",
       "    <tr>\n",
       "      <th>76ers</th>\n",
       "      <td>20.621951</td>\n",
       "      <td>4.252033</td>\n",
       "      <td>30.475610</td>\n",
       "      <td>10.939024</td>\n",
       "      <td>22.227642</td>\n",
       "      <td>41.414634</td>\n",
       "      <td>8.792683</td>\n",
       "      <td>14.626016</td>\n",
       "      <td>21.268293</td>\n",
       "      <td>27.308943</td>\n",
       "      <td>...</td>\n",
       "      <td>16.004065</td>\n",
       "      <td>36.150407</td>\n",
       "      <td>81.373984</td>\n",
       "      <td>99.199187</td>\n",
       "      <td>96.000000</td>\n",
       "      <td>0.0</td>\n",
       "      <td>1</td>\n",
       "      <td>0</td>\n",
       "      <td>0</td>\n",
       "      <td>0</td>\n",
       "    </tr>\n",
       "    <tr>\n",
       "      <th>Bucks</th>\n",
       "      <td>21.174797</td>\n",
       "      <td>3.447154</td>\n",
       "      <td>29.504065</td>\n",
       "      <td>11.784553</td>\n",
       "      <td>22.341463</td>\n",
       "      <td>41.288618</td>\n",
       "      <td>6.727642</td>\n",
       "      <td>13.548780</td>\n",
       "      <td>20.329268</td>\n",
       "      <td>26.719512</td>\n",
       "      <td>...</td>\n",
       "      <td>12.947154</td>\n",
       "      <td>36.195122</td>\n",
       "      <td>80.186992</td>\n",
       "      <td>97.422764</td>\n",
       "      <td>93.735772</td>\n",
       "      <td>0.0</td>\n",
       "      <td>0</td>\n",
       "      <td>1</td>\n",
       "      <td>0</td>\n",
       "      <td>0</td>\n",
       "    </tr>\n",
       "    <tr>\n",
       "      <th>Bulls</th>\n",
       "      <td>21.504065</td>\n",
       "      <td>4.402439</td>\n",
       "      <td>31.642276</td>\n",
       "      <td>11.821138</td>\n",
       "      <td>24.772358</td>\n",
       "      <td>43.463415</td>\n",
       "      <td>6.747967</td>\n",
       "      <td>15.589431</td>\n",
       "      <td>18.390244</td>\n",
       "      <td>24.646341</td>\n",
       "      <td>...</td>\n",
       "      <td>17.654472</td>\n",
       "      <td>35.373984</td>\n",
       "      <td>80.979675</td>\n",
       "      <td>95.569106</td>\n",
       "      <td>96.569106</td>\n",
       "      <td>0.0</td>\n",
       "      <td>0</td>\n",
       "      <td>0</td>\n",
       "      <td>0</td>\n",
       "      <td>1</td>\n",
       "    </tr>\n",
       "    <tr>\n",
       "      <th>Cavaliers</th>\n",
       "      <td>21.390244</td>\n",
       "      <td>5.341463</td>\n",
       "      <td>29.329268</td>\n",
       "      <td>12.979675</td>\n",
       "      <td>22.085366</td>\n",
       "      <td>42.308943</td>\n",
       "      <td>7.621951</td>\n",
       "      <td>13.174797</td>\n",
       "      <td>20.150407</td>\n",
       "      <td>27.097561</td>\n",
       "      <td>...</td>\n",
       "      <td>13.304878</td>\n",
       "      <td>36.130081</td>\n",
       "      <td>80.430894</td>\n",
       "      <td>96.869919</td>\n",
       "      <td>93.605691</td>\n",
       "      <td>0.0</td>\n",
       "      <td>0</td>\n",
       "      <td>1</td>\n",
       "      <td>0</td>\n",
       "      <td>0</td>\n",
       "    </tr>\n",
       "    <tr>\n",
       "      <th>Celtics</th>\n",
       "      <td>21.691057</td>\n",
       "      <td>5.154472</td>\n",
       "      <td>29.707317</td>\n",
       "      <td>10.695122</td>\n",
       "      <td>24.524390</td>\n",
       "      <td>40.402439</td>\n",
       "      <td>7.772358</td>\n",
       "      <td>15.524390</td>\n",
       "      <td>21.195122</td>\n",
       "      <td>27.845528</td>\n",
       "      <td>...</td>\n",
       "      <td>15.422764</td>\n",
       "      <td>36.760163</td>\n",
       "      <td>78.634146</td>\n",
       "      <td>100.166667</td>\n",
       "      <td>94.158537</td>\n",
       "      <td>0.0</td>\n",
       "      <td>1</td>\n",
       "      <td>0</td>\n",
       "      <td>0</td>\n",
       "      <td>0</td>\n",
       "    </tr>\n",
       "    <tr>\n",
       "      <th>Clippers</th>\n",
       "      <td>22.398374</td>\n",
       "      <td>5.475610</td>\n",
       "      <td>30.951220</td>\n",
       "      <td>11.333333</td>\n",
       "      <td>22.398374</td>\n",
       "      <td>42.284553</td>\n",
       "      <td>7.040650</td>\n",
       "      <td>14.439024</td>\n",
       "      <td>21.276423</td>\n",
       "      <td>27.195122</td>\n",
       "      <td>...</td>\n",
       "      <td>8.865854</td>\n",
       "      <td>35.939024</td>\n",
       "      <td>77.963415</td>\n",
       "      <td>96.211382</td>\n",
       "      <td>92.402439</td>\n",
       "      <td>0.0</td>\n",
       "      <td>0</td>\n",
       "      <td>1</td>\n",
       "      <td>0</td>\n",
       "      <td>0</td>\n",
       "    </tr>\n",
       "    <tr>\n",
       "      <th>Grizzlies</th>\n",
       "      <td>20.398374</td>\n",
       "      <td>5.666667</td>\n",
       "      <td>28.426829</td>\n",
       "      <td>10.601626</td>\n",
       "      <td>22.670732</td>\n",
       "      <td>39.028455</td>\n",
       "      <td>8.121951</td>\n",
       "      <td>13.601626</td>\n",
       "      <td>18.406504</td>\n",
       "      <td>24.898374</td>\n",
       "      <td>...</td>\n",
       "      <td>18.495935</td>\n",
       "      <td>33.943089</td>\n",
       "      <td>75.882114</td>\n",
       "      <td>93.008130</td>\n",
       "      <td>89.483740</td>\n",
       "      <td>0.0</td>\n",
       "      <td>0</td>\n",
       "      <td>0</td>\n",
       "      <td>1</td>\n",
       "      <td>0</td>\n",
       "    </tr>\n",
       "    <tr>\n",
       "      <th>Hawks</th>\n",
       "      <td>19.727642</td>\n",
       "      <td>4.398374</td>\n",
       "      <td>28.056911</td>\n",
       "      <td>13.288618</td>\n",
       "      <td>24.682927</td>\n",
       "      <td>41.345528</td>\n",
       "      <td>7.500000</td>\n",
       "      <td>15.223577</td>\n",
       "      <td>18.252033</td>\n",
       "      <td>25.182927</td>\n",
       "      <td>...</td>\n",
       "      <td>12.601626</td>\n",
       "      <td>35.894309</td>\n",
       "      <td>80.650407</td>\n",
       "      <td>94.235772</td>\n",
       "      <td>95.873984</td>\n",
       "      <td>0.0</td>\n",
       "      <td>0</td>\n",
       "      <td>1</td>\n",
       "      <td>0</td>\n",
       "      <td>0</td>\n",
       "    </tr>\n",
       "    <tr>\n",
       "      <th>Heat</th>\n",
       "      <td>21.430894</td>\n",
       "      <td>5.650407</td>\n",
       "      <td>32.329268</td>\n",
       "      <td>10.699187</td>\n",
       "      <td>22.353659</td>\n",
       "      <td>43.028455</td>\n",
       "      <td>6.414634</td>\n",
       "      <td>13.516260</td>\n",
       "      <td>20.048780</td>\n",
       "      <td>29.439024</td>\n",
       "      <td>...</td>\n",
       "      <td>16.101626</td>\n",
       "      <td>37.532520</td>\n",
       "      <td>77.605691</td>\n",
       "      <td>100.995935</td>\n",
       "      <td>91.121951</td>\n",
       "      <td>0.0</td>\n",
       "      <td>1</td>\n",
       "      <td>0</td>\n",
       "      <td>0</td>\n",
       "      <td>0</td>\n",
       "    </tr>\n",
       "    <tr>\n",
       "      <th>Hornets</th>\n",
       "      <td>21.565041</td>\n",
       "      <td>5.016260</td>\n",
       "      <td>28.211382</td>\n",
       "      <td>12.829268</td>\n",
       "      <td>23.365854</td>\n",
       "      <td>41.040650</td>\n",
       "      <td>8.991870</td>\n",
       "      <td>13.776423</td>\n",
       "      <td>18.565041</td>\n",
       "      <td>25.926829</td>\n",
       "      <td>...</td>\n",
       "      <td>12.288618</td>\n",
       "      <td>36.109756</td>\n",
       "      <td>83.581301</td>\n",
       "      <td>95.126016</td>\n",
       "      <td>97.357724</td>\n",
       "      <td>0.0</td>\n",
       "      <td>0</td>\n",
       "      <td>1</td>\n",
       "      <td>0</td>\n",
       "      <td>0</td>\n",
       "    </tr>\n",
       "    <tr>\n",
       "      <th>Jazz</th>\n",
       "      <td>22.048780</td>\n",
       "      <td>5.040650</td>\n",
       "      <td>27.910569</td>\n",
       "      <td>12.865854</td>\n",
       "      <td>26.056911</td>\n",
       "      <td>40.776423</td>\n",
       "      <td>6.528455</td>\n",
       "      <td>14.882114</td>\n",
       "      <td>21.186992</td>\n",
       "      <td>28.495935</td>\n",
       "      <td>...</td>\n",
       "      <td>9.955285</td>\n",
       "      <td>34.146341</td>\n",
       "      <td>76.459350</td>\n",
       "      <td>92.776423</td>\n",
       "      <td>91.341463</td>\n",
       "      <td>0.0</td>\n",
       "      <td>0</td>\n",
       "      <td>1</td>\n",
       "      <td>0</td>\n",
       "      <td>0</td>\n",
       "    </tr>\n",
       "    <tr>\n",
       "      <th>Kings</th>\n",
       "      <td>23.719512</td>\n",
       "      <td>3.784553</td>\n",
       "      <td>30.012195</td>\n",
       "      <td>11.780488</td>\n",
       "      <td>20.495935</td>\n",
       "      <td>41.792683</td>\n",
       "      <td>7.951220</td>\n",
       "      <td>13.089431</td>\n",
       "      <td>19.747967</td>\n",
       "      <td>25.126016</td>\n",
       "      <td>...</td>\n",
       "      <td>17.073171</td>\n",
       "      <td>38.048780</td>\n",
       "      <td>83.154472</td>\n",
       "      <td>102.097561</td>\n",
       "      <td>96.243902</td>\n",
       "      <td>0.0</td>\n",
       "      <td>0</td>\n",
       "      <td>0</td>\n",
       "      <td>0</td>\n",
       "      <td>1</td>\n",
       "    </tr>\n",
       "    <tr>\n",
       "      <th>Knicks</th>\n",
       "      <td>19.504065</td>\n",
       "      <td>3.215447</td>\n",
       "      <td>29.048780</td>\n",
       "      <td>12.048780</td>\n",
       "      <td>24.556911</td>\n",
       "      <td>41.097561</td>\n",
       "      <td>7.369919</td>\n",
       "      <td>14.939024</td>\n",
       "      <td>20.479675</td>\n",
       "      <td>27.264228</td>\n",
       "      <td>...</td>\n",
       "      <td>13.674797</td>\n",
       "      <td>35.682927</td>\n",
       "      <td>78.878049</td>\n",
       "      <td>96.731707</td>\n",
       "      <td>93.817073</td>\n",
       "      <td>0.0</td>\n",
       "      <td>1</td>\n",
       "      <td>0</td>\n",
       "      <td>0</td>\n",
       "      <td>0</td>\n",
       "    </tr>\n",
       "    <tr>\n",
       "      <th>Lakers</th>\n",
       "      <td>20.642276</td>\n",
       "      <td>4.219512</td>\n",
       "      <td>30.528455</td>\n",
       "      <td>12.300813</td>\n",
       "      <td>22.284553</td>\n",
       "      <td>42.829268</td>\n",
       "      <td>6.682927</td>\n",
       "      <td>13.621951</td>\n",
       "      <td>20.081301</td>\n",
       "      <td>26.203252</td>\n",
       "      <td>...</td>\n",
       "      <td>21.174797</td>\n",
       "      <td>35.699187</td>\n",
       "      <td>80.752033</td>\n",
       "      <td>98.959350</td>\n",
       "      <td>94.373984</td>\n",
       "      <td>0.0</td>\n",
       "      <td>0</td>\n",
       "      <td>0</td>\n",
       "      <td>1</td>\n",
       "      <td>0</td>\n",
       "    </tr>\n",
       "    <tr>\n",
       "      <th>Magic</th>\n",
       "      <td>18.947154</td>\n",
       "      <td>5.056911</td>\n",
       "      <td>30.447154</td>\n",
       "      <td>12.065041</td>\n",
       "      <td>23.504065</td>\n",
       "      <td>42.512195</td>\n",
       "      <td>7.308943</td>\n",
       "      <td>15.239837</td>\n",
       "      <td>21.166667</td>\n",
       "      <td>28.239837</td>\n",
       "      <td>...</td>\n",
       "      <td>10.682927</td>\n",
       "      <td>36.500000</td>\n",
       "      <td>79.369919</td>\n",
       "      <td>97.983740</td>\n",
       "      <td>94.609756</td>\n",
       "      <td>0.0</td>\n",
       "      <td>0</td>\n",
       "      <td>1</td>\n",
       "      <td>0</td>\n",
       "      <td>0</td>\n",
       "    </tr>\n",
       "    <tr>\n",
       "      <th>Mavericks</th>\n",
       "      <td>19.077236</td>\n",
       "      <td>5.731707</td>\n",
       "      <td>30.451220</td>\n",
       "      <td>12.235772</td>\n",
       "      <td>22.308943</td>\n",
       "      <td>42.686992</td>\n",
       "      <td>8.166667</td>\n",
       "      <td>12.841463</td>\n",
       "      <td>22.235772</td>\n",
       "      <td>28.252033</td>\n",
       "      <td>...</td>\n",
       "      <td>14.873984</td>\n",
       "      <td>36.845528</td>\n",
       "      <td>80.313008</td>\n",
       "      <td>101.382114</td>\n",
       "      <td>93.154472</td>\n",
       "      <td>0.0</td>\n",
       "      <td>1</td>\n",
       "      <td>0</td>\n",
       "      <td>0</td>\n",
       "      <td>0</td>\n",
       "    </tr>\n",
       "    <tr>\n",
       "      <th>Nets</th>\n",
       "      <td>22.065041</td>\n",
       "      <td>3.634146</td>\n",
       "      <td>29.727642</td>\n",
       "      <td>10.292683</td>\n",
       "      <td>23.873984</td>\n",
       "      <td>40.020325</td>\n",
       "      <td>7.552846</td>\n",
       "      <td>13.280488</td>\n",
       "      <td>19.382114</td>\n",
       "      <td>25.467480</td>\n",
       "      <td>...</td>\n",
       "      <td>15.662602</td>\n",
       "      <td>33.674797</td>\n",
       "      <td>77.865854</td>\n",
       "      <td>92.207317</td>\n",
       "      <td>91.146341</td>\n",
       "      <td>0.0</td>\n",
       "      <td>0</td>\n",
       "      <td>0</td>\n",
       "      <td>0</td>\n",
       "      <td>1</td>\n",
       "    </tr>\n",
       "    <tr>\n",
       "      <th>Nuggets</th>\n",
       "      <td>23.727642</td>\n",
       "      <td>5.857724</td>\n",
       "      <td>30.211382</td>\n",
       "      <td>11.532520</td>\n",
       "      <td>22.841463</td>\n",
       "      <td>41.743902</td>\n",
       "      <td>8.934959</td>\n",
       "      <td>14.414634</td>\n",
       "      <td>21.345528</td>\n",
       "      <td>28.203252</td>\n",
       "      <td>...</td>\n",
       "      <td>12.016260</td>\n",
       "      <td>37.211382</td>\n",
       "      <td>80.902439</td>\n",
       "      <td>99.792683</td>\n",
       "      <td>95.317073</td>\n",
       "      <td>0.0</td>\n",
       "      <td>0</td>\n",
       "      <td>1</td>\n",
       "      <td>0</td>\n",
       "      <td>0</td>\n",
       "    </tr>\n",
       "    <tr>\n",
       "      <th>Pacers</th>\n",
       "      <td>18.735772</td>\n",
       "      <td>4.565041</td>\n",
       "      <td>30.060976</td>\n",
       "      <td>10.707317</td>\n",
       "      <td>22.768293</td>\n",
       "      <td>40.768293</td>\n",
       "      <td>7.430894</td>\n",
       "      <td>13.821138</td>\n",
       "      <td>20.678862</td>\n",
       "      <td>26.707317</td>\n",
       "      <td>...</td>\n",
       "      <td>19.048780</td>\n",
       "      <td>33.016260</td>\n",
       "      <td>75.658537</td>\n",
       "      <td>93.296748</td>\n",
       "      <td>89.479675</td>\n",
       "      <td>0.0</td>\n",
       "      <td>0</td>\n",
       "      <td>0</td>\n",
       "      <td>1</td>\n",
       "      <td>0</td>\n",
       "    </tr>\n",
       "    <tr>\n",
       "      <th>Pelicans</th>\n",
       "      <td>20.191057</td>\n",
       "      <td>3.784553</td>\n",
       "      <td>28.215447</td>\n",
       "      <td>12.016260</td>\n",
       "      <td>22.569106</td>\n",
       "      <td>40.231707</td>\n",
       "      <td>6.955285</td>\n",
       "      <td>13.455285</td>\n",
       "      <td>18.093496</td>\n",
       "      <td>23.723577</td>\n",
       "      <td>...</td>\n",
       "      <td>14.296748</td>\n",
       "      <td>33.605691</td>\n",
       "      <td>79.430894</td>\n",
       "      <td>89.898374</td>\n",
       "      <td>92.886179</td>\n",
       "      <td>0.0</td>\n",
       "      <td>0</td>\n",
       "      <td>0</td>\n",
       "      <td>0</td>\n",
       "      <td>1</td>\n",
       "    </tr>\n",
       "    <tr>\n",
       "      <th>Pistons</th>\n",
       "      <td>22.540650</td>\n",
       "      <td>6.032520</td>\n",
       "      <td>29.922764</td>\n",
       "      <td>12.532520</td>\n",
       "      <td>19.467480</td>\n",
       "      <td>42.455285</td>\n",
       "      <td>7.040650</td>\n",
       "      <td>12.292683</td>\n",
       "      <td>18.674797</td>\n",
       "      <td>25.406504</td>\n",
       "      <td>...</td>\n",
       "      <td>14.459350</td>\n",
       "      <td>35.304878</td>\n",
       "      <td>78.861789</td>\n",
       "      <td>94.500000</td>\n",
       "      <td>91.154472</td>\n",
       "      <td>0.0</td>\n",
       "      <td>0</td>\n",
       "      <td>0</td>\n",
       "      <td>0</td>\n",
       "      <td>1</td>\n",
       "    </tr>\n",
       "    <tr>\n",
       "      <th>Raptors</th>\n",
       "      <td>20.052846</td>\n",
       "      <td>3.682927</td>\n",
       "      <td>29.182927</td>\n",
       "      <td>10.373984</td>\n",
       "      <td>23.239837</td>\n",
       "      <td>39.556911</td>\n",
       "      <td>7.199187</td>\n",
       "      <td>12.573171</td>\n",
       "      <td>19.939024</td>\n",
       "      <td>25.573171</td>\n",
       "      <td>...</td>\n",
       "      <td>20.252033</td>\n",
       "      <td>36.247967</td>\n",
       "      <td>81.101626</td>\n",
       "      <td>100.174797</td>\n",
       "      <td>93.674797</td>\n",
       "      <td>0.0</td>\n",
       "      <td>0</td>\n",
       "      <td>0</td>\n",
       "      <td>1</td>\n",
       "      <td>0</td>\n",
       "    </tr>\n",
       "    <tr>\n",
       "      <th>Rockets</th>\n",
       "      <td>20.512195</td>\n",
       "      <td>4.373984</td>\n",
       "      <td>31.573171</td>\n",
       "      <td>10.556911</td>\n",
       "      <td>22.264228</td>\n",
       "      <td>42.130081</td>\n",
       "      <td>6.967480</td>\n",
       "      <td>13.272358</td>\n",
       "      <td>18.715447</td>\n",
       "      <td>24.195122</td>\n",
       "      <td>...</td>\n",
       "      <td>18.113821</td>\n",
       "      <td>34.146341</td>\n",
       "      <td>77.601626</td>\n",
       "      <td>93.410569</td>\n",
       "      <td>90.873984</td>\n",
       "      <td>0.0</td>\n",
       "      <td>0</td>\n",
       "      <td>0</td>\n",
       "      <td>1</td>\n",
       "      <td>0</td>\n",
       "    </tr>\n",
       "    <tr>\n",
       "      <th>Spurs</th>\n",
       "      <td>21.378049</td>\n",
       "      <td>6.313008</td>\n",
       "      <td>30.593496</td>\n",
       "      <td>11.483740</td>\n",
       "      <td>20.926829</td>\n",
       "      <td>42.077236</td>\n",
       "      <td>7.191057</td>\n",
       "      <td>13.101626</td>\n",
       "      <td>17.873984</td>\n",
       "      <td>24.922764</td>\n",
       "      <td>...</td>\n",
       "      <td>16.878049</td>\n",
       "      <td>35.930894</td>\n",
       "      <td>78.219512</td>\n",
       "      <td>95.987805</td>\n",
       "      <td>91.321138</td>\n",
       "      <td>0.0</td>\n",
       "      <td>0</td>\n",
       "      <td>0</td>\n",
       "      <td>0</td>\n",
       "      <td>1</td>\n",
       "    </tr>\n",
       "    <tr>\n",
       "      <th>Suns</th>\n",
       "      <td>24.524390</td>\n",
       "      <td>5.357724</td>\n",
       "      <td>32.333333</td>\n",
       "      <td>11.024390</td>\n",
       "      <td>19.548780</td>\n",
       "      <td>43.357724</td>\n",
       "      <td>6.882114</td>\n",
       "      <td>13.211382</td>\n",
       "      <td>17.483740</td>\n",
       "      <td>22.906504</td>\n",
       "      <td>...</td>\n",
       "      <td>24.995935</td>\n",
       "      <td>41.186992</td>\n",
       "      <td>86.191057</td>\n",
       "      <td>109.731707</td>\n",
       "      <td>99.402439</td>\n",
       "      <td>0.0</td>\n",
       "      <td>0</td>\n",
       "      <td>0</td>\n",
       "      <td>1</td>\n",
       "      <td>0</td>\n",
       "    </tr>\n",
       "    <tr>\n",
       "      <th>Thunder</th>\n",
       "      <td>18.983740</td>\n",
       "      <td>3.991870</td>\n",
       "      <td>27.865854</td>\n",
       "      <td>12.581301</td>\n",
       "      <td>23.662602</td>\n",
       "      <td>40.447154</td>\n",
       "      <td>7.024390</td>\n",
       "      <td>13.121951</td>\n",
       "      <td>20.398374</td>\n",
       "      <td>25.878049</td>\n",
       "      <td>...</td>\n",
       "      <td>21.459350</td>\n",
       "      <td>35.939024</td>\n",
       "      <td>80.109756</td>\n",
       "      <td>100.150407</td>\n",
       "      <td>93.231707</td>\n",
       "      <td>0.0</td>\n",
       "      <td>0</td>\n",
       "      <td>0</td>\n",
       "      <td>1</td>\n",
       "      <td>0</td>\n",
       "    </tr>\n",
       "    <tr>\n",
       "      <th>Timberwolves</th>\n",
       "      <td>22.569106</td>\n",
       "      <td>5.548780</td>\n",
       "      <td>30.821138</td>\n",
       "      <td>10.995935</td>\n",
       "      <td>22.101626</td>\n",
       "      <td>41.817073</td>\n",
       "      <td>6.012195</td>\n",
       "      <td>12.991870</td>\n",
       "      <td>17.617886</td>\n",
       "      <td>22.500000</td>\n",
       "      <td>...</td>\n",
       "      <td>13.138211</td>\n",
       "      <td>36.495935</td>\n",
       "      <td>79.666667</td>\n",
       "      <td>95.081301</td>\n",
       "      <td>92.658537</td>\n",
       "      <td>0.0</td>\n",
       "      <td>0</td>\n",
       "      <td>0</td>\n",
       "      <td>0</td>\n",
       "      <td>1</td>\n",
       "    </tr>\n",
       "    <tr>\n",
       "      <th>Trail Blazers</th>\n",
       "      <td>20.056911</td>\n",
       "      <td>6.191057</td>\n",
       "      <td>28.500000</td>\n",
       "      <td>11.487805</td>\n",
       "      <td>21.276423</td>\n",
       "      <td>39.987805</td>\n",
       "      <td>6.890244</td>\n",
       "      <td>14.654472</td>\n",
       "      <td>16.898374</td>\n",
       "      <td>23.707317</td>\n",
       "      <td>...</td>\n",
       "      <td>13.674797</td>\n",
       "      <td>34.890244</td>\n",
       "      <td>77.686992</td>\n",
       "      <td>91.573171</td>\n",
       "      <td>92.341463</td>\n",
       "      <td>0.0</td>\n",
       "      <td>0</td>\n",
       "      <td>0</td>\n",
       "      <td>0</td>\n",
       "      <td>1</td>\n",
       "    </tr>\n",
       "    <tr>\n",
       "      <th>Warriors</th>\n",
       "      <td>21.609756</td>\n",
       "      <td>4.865854</td>\n",
       "      <td>29.906504</td>\n",
       "      <td>12.674797</td>\n",
       "      <td>22.792683</td>\n",
       "      <td>42.581301</td>\n",
       "      <td>7.674797</td>\n",
       "      <td>13.296748</td>\n",
       "      <td>17.873984</td>\n",
       "      <td>24.796748</td>\n",
       "      <td>...</td>\n",
       "      <td>21.869919</td>\n",
       "      <td>36.573171</td>\n",
       "      <td>84.808943</td>\n",
       "      <td>98.634146</td>\n",
       "      <td>98.105691</td>\n",
       "      <td>0.0</td>\n",
       "      <td>0</td>\n",
       "      <td>0</td>\n",
       "      <td>1</td>\n",
       "      <td>0</td>\n",
       "    </tr>\n",
       "    <tr>\n",
       "      <th>Wizards</th>\n",
       "      <td>18.898374</td>\n",
       "      <td>4.199187</td>\n",
       "      <td>28.829268</td>\n",
       "      <td>13.418699</td>\n",
       "      <td>22.231707</td>\n",
       "      <td>42.247967</td>\n",
       "      <td>8.495935</td>\n",
       "      <td>13.691057</td>\n",
       "      <td>22.272358</td>\n",
       "      <td>30.276423</td>\n",
       "      <td>...</td>\n",
       "      <td>17.845528</td>\n",
       "      <td>36.207317</td>\n",
       "      <td>82.292683</td>\n",
       "      <td>100.886179</td>\n",
       "      <td>95.983740</td>\n",
       "      <td>0.0</td>\n",
       "      <td>1</td>\n",
       "      <td>0</td>\n",
       "      <td>0</td>\n",
       "      <td>0</td>\n",
       "    </tr>\n",
       "  </tbody>\n",
       "</table>\n",
       "<p>30 rows × 21 columns</p>\n",
       "</div>"
      ],
      "text/plain": [
       "                     AST       BLK       DREB       OREB         PF  \\\n",
       "team                                                                  \n",
       "76ers          20.621951  4.252033  30.475610  10.939024  22.227642   \n",
       "Bucks          21.174797  3.447154  29.504065  11.784553  22.341463   \n",
       "Bulls          21.504065  4.402439  31.642276  11.821138  24.772358   \n",
       "Cavaliers      21.390244  5.341463  29.329268  12.979675  22.085366   \n",
       "Celtics        21.691057  5.154472  29.707317  10.695122  24.524390   \n",
       "Clippers       22.398374  5.475610  30.951220  11.333333  22.398374   \n",
       "Grizzlies      20.398374  5.666667  28.426829  10.601626  22.670732   \n",
       "Hawks          19.727642  4.398374  28.056911  13.288618  24.682927   \n",
       "Heat           21.430894  5.650407  32.329268  10.699187  22.353659   \n",
       "Hornets        21.565041  5.016260  28.211382  12.829268  23.365854   \n",
       "Jazz           22.048780  5.040650  27.910569  12.865854  26.056911   \n",
       "Kings          23.719512  3.784553  30.012195  11.780488  20.495935   \n",
       "Knicks         19.504065  3.215447  29.048780  12.048780  24.556911   \n",
       "Lakers         20.642276  4.219512  30.528455  12.300813  22.284553   \n",
       "Magic          18.947154  5.056911  30.447154  12.065041  23.504065   \n",
       "Mavericks      19.077236  5.731707  30.451220  12.235772  22.308943   \n",
       "Nets           22.065041  3.634146  29.727642  10.292683  23.873984   \n",
       "Nuggets        23.727642  5.857724  30.211382  11.532520  22.841463   \n",
       "Pacers         18.735772  4.565041  30.060976  10.707317  22.768293   \n",
       "Pelicans       20.191057  3.784553  28.215447  12.016260  22.569106   \n",
       "Pistons        22.540650  6.032520  29.922764  12.532520  19.467480   \n",
       "Raptors        20.052846  3.682927  29.182927  10.373984  23.239837   \n",
       "Rockets        20.512195  4.373984  31.573171  10.556911  22.264228   \n",
       "Spurs          21.378049  6.313008  30.593496  11.483740  20.926829   \n",
       "Suns           24.524390  5.357724  32.333333  11.024390  19.548780   \n",
       "Thunder        18.983740  3.991870  27.865854  12.581301  23.662602   \n",
       "Timberwolves   22.569106  5.548780  30.821138  10.995935  22.101626   \n",
       "Trail Blazers  20.056911  6.191057  28.500000  11.487805  21.276423   \n",
       "Warriors       21.609756  4.865854  29.906504  12.674797  22.792683   \n",
       "Wizards        18.898374  4.199187  28.829268  13.418699  22.231707   \n",
       "\n",
       "                     REB       STL         TO    FT_made  FT_attempts  \\\n",
       "team                                                                    \n",
       "76ers          41.414634  8.792683  14.626016  21.268293    27.308943   \n",
       "Bucks          41.288618  6.727642  13.548780  20.329268    26.719512   \n",
       "Bulls          43.463415  6.747967  15.589431  18.390244    24.646341   \n",
       "Cavaliers      42.308943  7.621951  13.174797  20.150407    27.097561   \n",
       "Celtics        40.402439  7.772358  15.524390  21.195122    27.845528   \n",
       "Clippers       42.284553  7.040650  14.439024  21.276423    27.195122   \n",
       "Grizzlies      39.028455  8.121951  13.601626  18.406504    24.898374   \n",
       "Hawks          41.345528  7.500000  15.223577  18.252033    25.182927   \n",
       "Heat           43.028455  6.414634  13.516260  20.048780    29.439024   \n",
       "Hornets        41.040650  8.991870  13.776423  18.565041    25.926829   \n",
       "Jazz           40.776423  6.528455  14.882114  21.186992    28.495935   \n",
       "Kings          41.792683  7.951220  13.089431  19.747967    25.126016   \n",
       "Knicks         41.097561  7.369919  14.939024  20.479675    27.264228   \n",
       "Lakers         42.829268  6.682927  13.621951  20.081301    26.203252   \n",
       "Magic          42.512195  7.308943  15.239837  21.166667    28.239837   \n",
       "Mavericks      42.686992  8.166667  12.841463  22.235772    28.252033   \n",
       "Nets           40.020325  7.552846  13.280488  19.382114    25.467480   \n",
       "Nuggets        41.743902  8.934959  14.414634  21.345528    28.203252   \n",
       "Pacers         40.768293  7.430894  13.821138  20.678862    26.707317   \n",
       "Pelicans       40.231707  6.955285  13.455285  18.093496    23.723577   \n",
       "Pistons        42.455285  7.040650  12.292683  18.674797    25.406504   \n",
       "Raptors        39.556911  7.199187  12.573171  19.939024    25.573171   \n",
       "Rockets        42.130081  6.967480  13.272358  18.715447    24.195122   \n",
       "Spurs          42.077236  7.191057  13.101626  17.873984    24.922764   \n",
       "Suns           43.357724  6.882114  13.211382  17.483740    22.906504   \n",
       "Thunder        40.447154  7.024390  13.121951  20.398374    25.878049   \n",
       "Timberwolves   41.817073  6.012195  12.991870  17.617886    22.500000   \n",
       "Trail Blazers  39.987805  6.890244  14.654472  16.898374    23.707317   \n",
       "Warriors       42.581301  7.674797  13.296748  17.873984    24.796748   \n",
       "Wizards        42.247967  8.495935  13.691057  22.272358    30.276423   \n",
       "\n",
       "                 ...      3PT_attempts    FG_made  FG_attempts   AVG_score  \\\n",
       "team             ...                                                         \n",
       "76ers            ...         16.004065  36.150407    81.373984   99.199187   \n",
       "Bucks            ...         12.947154  36.195122    80.186992   97.422764   \n",
       "Bulls            ...         17.654472  35.373984    80.979675   95.569106   \n",
       "Cavaliers        ...         13.304878  36.130081    80.430894   96.869919   \n",
       "Celtics          ...         15.422764  36.760163    78.634146  100.166667   \n",
       "Clippers         ...          8.865854  35.939024    77.963415   96.211382   \n",
       "Grizzlies        ...         18.495935  33.943089    75.882114   93.008130   \n",
       "Hawks            ...         12.601626  35.894309    80.650407   94.235772   \n",
       "Heat             ...         16.101626  37.532520    77.605691  100.995935   \n",
       "Hornets          ...         12.288618  36.109756    83.581301   95.126016   \n",
       "Jazz             ...          9.955285  34.146341    76.459350   92.776423   \n",
       "Kings            ...         17.073171  38.048780    83.154472  102.097561   \n",
       "Knicks           ...         13.674797  35.682927    78.878049   96.731707   \n",
       "Lakers           ...         21.174797  35.699187    80.752033   98.959350   \n",
       "Magic            ...         10.682927  36.500000    79.369919   97.983740   \n",
       "Mavericks        ...         14.873984  36.845528    80.313008  101.382114   \n",
       "Nets             ...         15.662602  33.674797    77.865854   92.207317   \n",
       "Nuggets          ...         12.016260  37.211382    80.902439   99.792683   \n",
       "Pacers           ...         19.048780  33.016260    75.658537   93.296748   \n",
       "Pelicans         ...         14.296748  33.605691    79.430894   89.898374   \n",
       "Pistons          ...         14.459350  35.304878    78.861789   94.500000   \n",
       "Raptors          ...         20.252033  36.247967    81.101626  100.174797   \n",
       "Rockets          ...         18.113821  34.146341    77.601626   93.410569   \n",
       "Spurs            ...         16.878049  35.930894    78.219512   95.987805   \n",
       "Suns             ...         24.995935  41.186992    86.191057  109.731707   \n",
       "Thunder          ...         21.459350  35.939024    80.109756  100.150407   \n",
       "Timberwolves     ...         13.138211  36.495935    79.666667   95.081301   \n",
       "Trail Blazers    ...         13.674797  34.890244    77.686992   91.573171   \n",
       "Warriors         ...         21.869919  36.573171    84.808943   98.634146   \n",
       "Wizards          ...         17.845528  36.207317    82.292683  100.886179   \n",
       "\n",
       "               Possessions  +/-_diff  cluster_0  cluster_1  cluster_2  \\\n",
       "team                                                                    \n",
       "76ers            96.000000       0.0          1          0          0   \n",
       "Bucks            93.735772       0.0          0          1          0   \n",
       "Bulls            96.569106       0.0          0          0          0   \n",
       "Cavaliers        93.605691       0.0          0          1          0   \n",
       "Celtics          94.158537       0.0          1          0          0   \n",
       "Clippers         92.402439       0.0          0          1          0   \n",
       "Grizzlies        89.483740       0.0          0          0          1   \n",
       "Hawks            95.873984       0.0          0          1          0   \n",
       "Heat             91.121951       0.0          1          0          0   \n",
       "Hornets          97.357724       0.0          0          1          0   \n",
       "Jazz             91.341463       0.0          0          1          0   \n",
       "Kings            96.243902       0.0          0          0          0   \n",
       "Knicks           93.817073       0.0          1          0          0   \n",
       "Lakers           94.373984       0.0          0          0          1   \n",
       "Magic            94.609756       0.0          0          1          0   \n",
       "Mavericks        93.154472       0.0          1          0          0   \n",
       "Nets             91.146341       0.0          0          0          0   \n",
       "Nuggets          95.317073       0.0          0          1          0   \n",
       "Pacers           89.479675       0.0          0          0          1   \n",
       "Pelicans         92.886179       0.0          0          0          0   \n",
       "Pistons          91.154472       0.0          0          0          0   \n",
       "Raptors          93.674797       0.0          0          0          1   \n",
       "Rockets          90.873984       0.0          0          0          1   \n",
       "Spurs            91.321138       0.0          0          0          0   \n",
       "Suns             99.402439       0.0          0          0          1   \n",
       "Thunder          93.231707       0.0          0          0          1   \n",
       "Timberwolves     92.658537       0.0          0          0          0   \n",
       "Trail Blazers    92.341463       0.0          0          0          0   \n",
       "Warriors         98.105691       0.0          0          0          1   \n",
       "Wizards          95.983740       0.0          1          0          0   \n",
       "\n",
       "               cluster_3  \n",
       "team                      \n",
       "76ers                  0  \n",
       "Bucks                  0  \n",
       "Bulls                  1  \n",
       "Cavaliers              0  \n",
       "Celtics                0  \n",
       "Clippers               0  \n",
       "Grizzlies              0  \n",
       "Hawks                  0  \n",
       "Heat                   0  \n",
       "Hornets                0  \n",
       "Jazz                   0  \n",
       "Kings                  1  \n",
       "Knicks                 0  \n",
       "Lakers                 0  \n",
       "Magic                  0  \n",
       "Mavericks              0  \n",
       "Nets                   1  \n",
       "Nuggets                0  \n",
       "Pacers                 0  \n",
       "Pelicans               1  \n",
       "Pistons                1  \n",
       "Raptors                0  \n",
       "Rockets                0  \n",
       "Spurs                  1  \n",
       "Suns                   0  \n",
       "Thunder                0  \n",
       "Timberwolves           1  \n",
       "Trail Blazers          1  \n",
       "Warriors               0  \n",
       "Wizards                0  \n",
       "\n",
       "[30 rows x 21 columns]"
      ]
     },
     "execution_count": 46,
     "metadata": {},
     "output_type": "execute_result"
    }
   ],
   "source": [
    "sc2008"
   ]
  },
  {
   "cell_type": "code",
   "execution_count": null,
   "metadata": {},
   "outputs": [],
   "source": [
    "model_s2018=s2018[['game_id','home_team','team','Total_PTS','days_after_opener']]\n",
    "model_s2018=model_s2018.join(sc2018,on='team')\n",
    "#model_s2018=model_s2018.groupby(['game_id','team','days_after_opener']).mean()"
   ]
  },
  {
   "cell_type": "code",
   "execution_count": null,
   "metadata": {
    "scrolled": true
   },
   "outputs": [],
   "source": [
    "model_s2018"
   ]
  },
  {
   "cell_type": "code",
   "execution_count": null,
   "metadata": {},
   "outputs": [],
   "source": [
    "model_s2017=s2017[['game_id','team','Total_PTS','days_after_opener']]\n",
    "model_s2017=model_s2017.join(sc2017,on='team')\n",
    "model_s2017=model_s2017.groupby(['game_id','team','days_after_opener']).mean()"
   ]
  },
  {
   "cell_type": "code",
   "execution_count": null,
   "metadata": {},
   "outputs": [],
   "source": [
    "model_s2016=s2016[['game_id','team','Total_PTS','days_after_opener']]\n",
    "model_s2016=model_s2016.join(sc2016,on='team')\n",
    "model_s2016=model_s2016.groupby(['game_id','team','days_after_opener']).mean()"
   ]
  },
  {
   "cell_type": "code",
   "execution_count": null,
   "metadata": {},
   "outputs": [],
   "source": [
    "model_s2015=s2015[['game_id','team','Total_PTS','days_after_opener']]\n",
    "model_s2015=model_s2015.join(sc2015,on='team')\n",
    "model_s2015=model_s2015.groupby(['game_id','team','days_after_opener']).mean()"
   ]
  },
  {
   "cell_type": "code",
   "execution_count": null,
   "metadata": {},
   "outputs": [],
   "source": [
    "model_s2014=s2014[['game_id','team','Total_PTS','days_after_opener']]\n",
    "model_s2014=model_s2014.join(sc2014,on='team')\n",
    "model_s2014=model_s2014.groupby(['game_id','team','days_after_opener']).mean()"
   ]
  },
  {
   "cell_type": "code",
   "execution_count": null,
   "metadata": {},
   "outputs": [],
   "source": [
    "model_s2013=s2013[['game_id','team','Total_PTS','days_after_opener']]\n",
    "model_s2013=model_s2013.join(sc2013,on='team')\n",
    "model_s2013=model_s2013.groupby(['game_id','team','days_after_opener']).mean()"
   ]
  },
  {
   "cell_type": "code",
   "execution_count": null,
   "metadata": {},
   "outputs": [],
   "source": [
    "model_s2012=s2012[['game_id','team','Total_PTS','days_after_opener']]\n",
    "model_s2012=model_s2012.join(sc2012,on='team')\n",
    "model_s2012=model_s2012.groupby(['game_id','team','days_after_opener']).mean()"
   ]
  },
  {
   "cell_type": "code",
   "execution_count": null,
   "metadata": {},
   "outputs": [],
   "source": [
    "model_s2011=s2011[['game_id','team','Total_PTS','days_after_opener']]\n",
    "model_s2011=model_s2011.join(sc2011,on='team')\n",
    "model_s2011=model_s2011.groupby(['game_id','team','days_after_opener']).mean()"
   ]
  },
  {
   "cell_type": "code",
   "execution_count": null,
   "metadata": {},
   "outputs": [],
   "source": [
    "model_s2010=s2010[['game_id','team','Total_PTS','days_after_opener']]\n",
    "model_s2010=model_s2010.join(sc2010,on='team')\n",
    "model_s2010=model_s2010.groupby(['game_id','team','days_after_opener']).mean()"
   ]
  },
  {
   "cell_type": "code",
   "execution_count": null,
   "metadata": {},
   "outputs": [],
   "source": [
    "model_s2009=s2018[['game_id','team','Total_PTS','days_after_opener']]\n",
    "model_s2009=model_s2009.join(sc2009,on='team')\n",
    "model_s2009=model_s2009.groupby(['game_id','team','days_after_opener']).mean()"
   ]
  },
  {
   "cell_type": "code",
   "execution_count": null,
   "metadata": {},
   "outputs": [],
   "source": [
    "model_s2008=s2008[['game_id','team','Total_PTS','days_after_opener']]\n",
    "model_s2008=model_s2008.join(sc2008,on='team')\n",
    "model_s2008=model_s2008.groupby(['game_id','team','days_after_opener']).mean()"
   ]
  },
  {
   "cell_type": "code",
   "execution_count": null,
   "metadata": {},
   "outputs": [],
   "source": []
  },
  {
   "cell_type": "code",
   "execution_count": null,
   "metadata": {
    "scrolled": true
   },
   "outputs": [],
   "source": [
    "vals=model_s2008.values\n"
   ]
  },
  {
   "cell_type": "code",
   "execution_count": null,
   "metadata": {},
   "outputs": [],
   "source": [
    "vals"
   ]
  },
  {
   "cell_type": "code",
   "execution_count": null,
   "metadata": {},
   "outputs": [],
   "source": [
    "updated_vals = [np.append(vals[2*i],(vals[2*i+1][1:])) for i in range(int(len(vals)/2))]"
   ]
  },
  {
   "cell_type": "code",
   "execution_count": null,
   "metadata": {},
   "outputs": [],
   "source": [
    "col = model_s2008.columns.append(model_s2008.columns[1:])"
   ]
  },
  {
   "cell_type": "code",
   "execution_count": null,
   "metadata": {},
   "outputs": [],
   "source": [
    "col"
   ]
  },
  {
   "cell_type": "code",
   "execution_count": null,
   "metadata": {},
   "outputs": [],
   "source": [
    "model_one_row_game = pd.DataFrame(updated_vals,columns=col)"
   ]
  },
  {
   "cell_type": "code",
   "execution_count": null,
   "metadata": {},
   "outputs": [],
   "source": [
    "model_one_row_game.columns"
   ]
  },
  {
   "cell_type": "code",
   "execution_count": null,
   "metadata": {},
   "outputs": [],
   "source": [
    "model_s2008_train = model_s2008[:245]\n",
    "model_s2008_test = model_s2008[245:]"
   ]
  },
  {
   "cell_type": "code",
   "execution_count": null,
   "metadata": {
    "scrolled": true
   },
   "outputs": [],
   "source": [
    "model_s2008_train"
   ]
  },
  {
   "cell_type": "code",
   "execution_count": null,
   "metadata": {
    "scrolled": true
   },
   "outputs": [],
   "source": [
    "model_s2008_test"
   ]
  },
  {
   "cell_type": "code",
   "execution_count": null,
   "metadata": {},
   "outputs": [],
   "source": [
    "from sklearn.linear_model import LinearRegression"
   ]
  },
  {
   "cell_type": "code",
   "execution_count": null,
   "metadata": {},
   "outputs": [],
   "source": [
    "lr = LinearRegression()"
   ]
  },
  {
   "cell_type": "code",
   "execution_count": null,
   "metadata": {},
   "outputs": [],
   "source": [
    "lr.fit(model_s2008_train.drop('Total_PTS',axis=1),model_s2008_train['Total_PTS'])"
   ]
  },
  {
   "cell_type": "code",
   "execution_count": null,
   "metadata": {},
   "outputs": [],
   "source": [
    "preds = lr.predict(model_s2008_test.drop('Total_PTS',axis=1))"
   ]
  },
  {
   "cell_type": "code",
   "execution_count": null,
   "metadata": {},
   "outputs": [],
   "source": [
    "preds"
   ]
  },
  {
   "cell_type": "code",
   "execution_count": null,
   "metadata": {},
   "outputs": [],
   "source": [
    "preds = [(preds[2*i]+preds[2*i+1])/2 for i in range(int(len(preds)/2))]"
   ]
  },
  {
   "cell_type": "code",
   "execution_count": null,
   "metadata": {},
   "outputs": [],
   "source": [
    "preds[15]"
   ]
  },
  {
   "cell_type": "code",
   "execution_count": null,
   "metadata": {},
   "outputs": [],
   "source": [
    "model_s2008_test['Total_PTS'][::2][15]"
   ]
  },
  {
   "cell_type": "code",
   "execution_count": null,
   "metadata": {
    "scrolled": true
   },
   "outputs": [],
   "source": [
    "c.get_avgs_home_vs_away(s2018)"
   ]
  },
  {
   "cell_type": "code",
   "execution_count": null,
   "metadata": {},
   "outputs": [],
   "source": [
    "c.get_team_avgs(s2018)"
   ]
  },
  {
   "cell_type": "code",
   "execution_count": null,
   "metadata": {},
   "outputs": [],
   "source": []
  },
  {
   "cell_type": "code",
   "execution_count": null,
   "metadata": {},
   "outputs": [],
   "source": []
  },
  {
   "cell_type": "code",
   "execution_count": null,
   "metadata": {},
   "outputs": [],
   "source": [
    "s2018=pd.read_csv('data/2018.csv')\n",
    "s2018=c.all_clean(s2018)"
   ]
  },
  {
   "cell_type": "code",
   "execution_count": null,
   "metadata": {},
   "outputs": [],
   "source": []
  },
  {
   "cell_type": "code",
   "execution_count": null,
   "metadata": {},
   "outputs": [],
   "source": [
    "clus,home,away=c.get_avgs_home_vs_away(s2018)"
   ]
  },
  {
   "cell_type": "code",
   "execution_count": null,
   "metadata": {
    "scrolled": true
   },
   "outputs": [],
   "source": [
    "t.columns"
   ]
  },
  {
   "cell_type": "code",
   "execution_count": null,
   "metadata": {
    "scrolled": true
   },
   "outputs": [],
   "source": [
    "s2008[['game_id','team','Total_PTS','days_after_opener','home_team']]"
   ]
  },
  {
   "cell_type": "code",
   "execution_count": null,
   "metadata": {},
   "outputs": [],
   "source": [
    "km=clu.create_clusters(s2015,s2016,s2017)"
   ]
  },
  {
   "cell_type": "code",
   "execution_count": null,
   "metadata": {},
   "outputs": [],
   "source": [
    "np.unique(s2018.team)"
   ]
  },
  {
   "cell_type": "code",
   "execution_count": null,
   "metadata": {},
   "outputs": [],
   "source": [
    "clusters_df=pd.DataFrame(km.labels_,index=np.unique(s2018.team))"
   ]
  },
  {
   "cell_type": "code",
   "execution_count": null,
   "metadata": {},
   "outputs": [],
   "source": [
    "s2018=s2018.join(clusters_df,on='team')"
   ]
  },
  {
   "cell_type": "code",
   "execution_count": null,
   "metadata": {},
   "outputs": [],
   "source": [
    "scomb=pd.concat((scomb,pd.get_dummies(scomb['clusters'],prefix='cluster')),axis=1)\n",
    "scomb.drop('clusters',axis=1,inplace=True)"
   ]
  },
  {
   "cell_type": "code",
   "execution_count": null,
   "metadata": {
    "scrolled": true
   },
   "outputs": [],
   "source": [
    "scomb"
   ]
  },
  {
   "cell_type": "code",
   "execution_count": null,
   "metadata": {},
   "outputs": [],
   "source": [
    "model_s2018=s2018[['game_id','home_team','team','Total_PTS','days_after_opener']]\n",
    "model_s2018=model_s2018.join(scomb,on='team')\n",
    "model_s2018=model_s2018.groupby(['game_id','team','days_after_opener']).mean()"
   ]
  },
  {
   "cell_type": "code",
   "execution_count": null,
   "metadata": {
    "scrolled": true
   },
   "outputs": [],
   "source": [
    "model_s2018"
   ]
  },
  {
   "cell_type": "code",
   "execution_count": null,
   "metadata": {},
   "outputs": [],
   "source": [
    "t,h,a = c.get_avgs_home_vs_away(s2018)"
   ]
  },
  {
   "cell_type": "code",
   "execution_count": null,
   "metadata": {},
   "outputs": [],
   "source": []
  },
  {
   "cell_type": "code",
   "execution_count": null,
   "metadata": {},
   "outputs": [],
   "source": [
    "km=clu.create_clusters(s2015,s2016,s2017)"
   ]
  },
  {
   "cell_type": "code",
   "execution_count": null,
   "metadata": {},
   "outputs": [],
   "source": [
    "km.labels_"
   ]
  },
  {
   "cell_type": "code",
   "execution_count": null,
   "metadata": {
    "scrolled": true
   },
   "outputs": [],
   "source": [
    "grouped_teams_home = s2018[s2018['home_team']==1]\n",
    "grouped_teams_away = s2018[s2018['home_team']==0]"
   ]
  },
  {
   "cell_type": "code",
   "execution_count": null,
   "metadata": {},
   "outputs": [],
   "source": [
    "away=grouped_teams_away[grouped_teams_away['team']=='Hawks'].groupby('game_id')\n",
    "awaypts=away.sum()['PTS']"
   ]
  },
  {
   "cell_type": "code",
   "execution_count": null,
   "metadata": {},
   "outputs": [],
   "source": [
    "home=grouped_teams_home[grouped_teams_home['team']=='Hawks'].groupby('game_id')\n",
    "homepts=home.sum()['PTS']"
   ]
  },
  {
   "cell_type": "code",
   "execution_count": null,
   "metadata": {},
   "outputs": [],
   "source": [
    "plt.hist(awaypts,bins=10,alpha=.3)\n",
    "plt.hist(homepts,bins=10,alpha=.3)\n",
    "plt.show()"
   ]
  },
  {
   "cell_type": "code",
   "execution_count": null,
   "metadata": {},
   "outputs": [],
   "source": [
    "away=grouped_teams_away[grouped_teams_away['team']=='Thunder'].groupby('game_id')\n",
    "awaypts=away.sum()['PTS']\n",
    "home=grouped_teams_home[grouped_teams_home['team']=='Thunder'].groupby('game_id')\n",
    "homepts=home.sum()['PTS']"
   ]
  },
  {
   "cell_type": "code",
   "execution_count": null,
   "metadata": {},
   "outputs": [],
   "source": [
    "plt.hist(awaypts,bins=10,alpha=.3)\n",
    "plt.hist(homepts,bins=10,alpha=.3)\n",
    "plt.show()"
   ]
  },
  {
   "cell_type": "code",
   "execution_count": null,
   "metadata": {},
   "outputs": [],
   "source": [
    "away=grouped_teams_away[grouped_teams_away['team']=='Thunder'].groupby('game_id')\n",
    "awaypts=away.sum()['+/-']\n",
    "home=grouped_teams_home[grouped_teams_home['team']=='Thunder'].groupby('game_id')\n",
    "homepts=home.sum()['+/-']"
   ]
  },
  {
   "cell_type": "code",
   "execution_count": null,
   "metadata": {
    "scrolled": true
   },
   "outputs": [],
   "source": [
    "sum(awaypts)"
   ]
  },
  {
   "cell_type": "code",
   "execution_count": null,
   "metadata": {},
   "outputs": [],
   "source": [
    "#to get +/- for team need to divide by 5 (5 players on court at all time)"
   ]
  }
 ],
 "metadata": {
  "kernelspec": {
   "display_name": "Python 3",
   "language": "python",
   "name": "python3"
  },
  "language_info": {
   "codemirror_mode": {
    "name": "ipython",
    "version": 3
   },
   "file_extension": ".py",
   "mimetype": "text/x-python",
   "name": "python",
   "nbconvert_exporter": "python",
   "pygments_lexer": "ipython3",
   "version": "3.6.4"
  }
 },
 "nbformat": 4,
 "nbformat_minor": 2
}
